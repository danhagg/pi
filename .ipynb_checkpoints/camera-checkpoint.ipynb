{
 "cells": [
  {
   "cell_type": "markdown",
   "metadata": {},
   "source": [
    "From Tutorial here\n",
    "\n",
    "https://www.youtube.com/watch?v=xA9rzq5_GFM&index=14&list=PLNnwglGGYoTvy37TSGFlv-aFkpg7owWrE\n",
    "\n",
    "```\n",
    "ping raspberrypi.local\n",
    "```\n",
    "\n",
    "Type `ipconfig` (or `ifconfig` on Linux) at command prompt. \n",
    "\n",
    "This will give you the IP address of your own machine. For example, your machine's IP address is 192.168.1.6. So your broadcast IP address is 192.168.1.255.\n",
    "\n",
    "Ping your broadcast IP address `ping 192.168.1.255` (may require -b on Linux)\n",
    "Now type `arp -a`. You will get the list of all IP addresses on your segment.\n",
    "\n",
    "\n",
    "Take a still picture\n",
    "\n",
    "```\n",
    "raspistill -o image.jpg\n",
    "```\n",
    "\n",
    "\n"
   ]
  }
 ],
 "metadata": {
  "kernelspec": {
   "display_name": "Python 3",
   "language": "python",
   "name": "python3"
  },
  "language_info": {
   "codemirror_mode": {
    "name": "ipython",
    "version": 3
   },
   "file_extension": ".py",
   "mimetype": "text/x-python",
   "name": "python",
   "nbconvert_exporter": "python",
   "pygments_lexer": "ipython3",
   "version": "3.6.2"
  }
 },
 "nbformat": 4,
 "nbformat_minor": 2
}
