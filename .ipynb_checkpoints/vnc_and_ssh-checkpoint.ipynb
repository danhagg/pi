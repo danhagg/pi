{
 "cells": [
  {
   "cell_type": "code",
   "execution_count": null,
   "metadata": {},
   "outputs": [],
   "source": [
    "Password doggy\n",
    "```\n",
    "sudo apt-get install tightvncserver\n",
    "vncserver :1\n",
    "```\n",
    "\n",
    "To have start automatically, Need to mod the file\n",
    "```\n",
    "sudo nano /etc/rc.local\n",
    "```\n",
    "\n",
    "Above the `exit 0` add\n",
    "```\n",
    "su - pi -c '/usr/bin/vncserver :1'\n",
    "```\n",
    "\n",
    "```\n",
    "sudo reboot\n",
    "```\n",
    "\n",
    "Check if vnc server running after reboot with\n",
    "\n",
    "```\n",
    "vncserver :1\n",
    "``\n",
    "\n",
    "returns `A VNC server is already running as :1`\n",
    "    \n",
    "Kill server with\n",
    "```\n",
    "vncserver -kill :1\n",
    "```"
   ]
  }
 ],
 "metadata": {
  "kernelspec": {
   "display_name": "Python 3",
   "language": "python",
   "name": "python3"
  },
  "language_info": {
   "codemirror_mode": {
    "name": "ipython",
    "version": 3
   },
   "file_extension": ".py",
   "mimetype": "text/x-python",
   "name": "python",
   "nbconvert_exporter": "python",
   "pygments_lexer": "ipython3",
   "version": "3.6.2"
  }
 },
 "nbformat": 4,
 "nbformat_minor": 2
}
